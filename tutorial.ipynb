{
 "cells": [
  {
   "cell_type": "markdown",
   "metadata": {},
   "source": [
    "# DNA structure generator\n",
    "\n",
    "Thor van Heesch (T.vanHeesch@uva.nl) and Jocelyne Vreede (J.Vreede@uva.nl)\n",
    "\n",
    "van 't Hoff Institute for Molecular Sciences, University of Amsterdam\n",
    "\n",
    "May 2024\n",
    "\n",
    "===\n",
    "\n",
    "This tutorial lets you generate linear DNA, curved DNA and knotted DNA. The code in this tutorial is based on `pyMDNA`, using rigid body representations for base pairs, publication in preparation. \n",
    "\n",
    "To go through the tutorial, run each cell with code, using either shift-enter or the play button.  "
   ]
  },
  {
   "cell_type": "markdown",
   "metadata": {},
   "source": [
    "Start with importing required libraries, by running the cell (shift-enter, or the 'play' button). The brackets next to the cell will change from [] to [*] (running) to [1] (done). The number in the brackets indicates the order in which you executed cells. "
   ]
  },
  {
   "cell_type": "code",
   "execution_count": null,
   "metadata": {},
   "outputs": [],
   "source": [
    "#import libraries\n",
    "import numpy as np\n",
    "import mdtraj as md\n",
    "import matplotlib.pyplot as plt\n",
    "import nglview as nv\n",
    "\n",
    "import sys\n",
    "import pymdna as mdna "
   ]
  },
  {
   "cell_type": "markdown",
   "metadata": {},
   "source": [
    "## Linear DNA\n",
    "\n",
    "The `sequence_to_pdb()` function can generate a 3D DNA structure and takes the nucleotide sequence as input:"
   ]
  },
  {
   "cell_type": "code",
   "execution_count": null,
   "metadata": {},
   "outputs": [],
   "source": [
    "sequence='CGCGATTTCGCG'\n",
    "traj = mdna.sequence_to_pdb(sequence)"
   ]
  },
  {
   "cell_type": "markdown",
   "metadata": {},
   "source": [
    "Visualize the DNA structure. Try out ribbon and atom (=licorice or spacefill) representation by uncommenting and commenting out code in the cell below. Each time the code is changed, run the cell again to update the visualization. \n",
    "\n",
    "Default coloring:\n",
    "polynucleotide chains: red and blue\n",
    "Atoms: red - oxygen, blue - nitrogen, orange - phosphprus, grey - carbon or hydrogen. \n",
    "\n",
    "Documentation on NGLview: https://nglviewer.org/ngl/api/manual/molecular-representations.html"
   ]
  },
  {
   "cell_type": "code",
   "execution_count": null,
   "metadata": {},
   "outputs": [],
   "source": [
    "view = nv.show_mdtraj(traj)\n",
    "view.add_cartoon()\n",
    "#view.add_licorice()\n",
    "#view.add_spacefill()\n",
    "view"
   ]
  },
  {
   "cell_type": "markdown",
   "metadata": {},
   "source": [
    "### Exercises\n",
    "Make DNA of length 12, 24 and 48 basepairs. You can only use A, C, G or T as nucleotides. What is the number of complete turns for each length?"
   ]
  },
  {
   "cell_type": "markdown",
   "metadata": {},
   "source": [
    "To be done: To make overwound or underwound DNA, which rigid base parameter needs to be adjusted? Use the code in the cell below to adjust rigid base parameters. "
   ]
  },
  {
   "cell_type": "markdown",
   "metadata": {},
   "source": [
    "## Curved DNA\n",
    "\n",
    "To construct curved DNA, we use a parametric function in three dimensions. The curve is defined by three functions, one for each dimension (x, y, z). \n",
    "\n",
    "Let's define a spiral parametric function depending on a single parameter `t`:"
   ]
  },
  {
   "cell_type": "code",
   "execution_count": null,
   "metadata": {},
   "outputs": [],
   "source": [
    "def parametric_spiral(t, radius=5):\n",
    "    x = np.cos(t)*radius\n",
    "    y = np.sin(t)*radius\n",
    "    z = t\n",
    "    return x, y, z"
   ]
  },
  {
   "cell_type": "markdown",
   "metadata": {},
   "source": [
    "Now, generate a range of values for `t`, from 0 to 3π with 100 points. For each value of `t`, `x`, `y`, and `z` coordinates are computed using the parametric function: "
   ]
  },
  {
   "cell_type": "code",
   "execution_count": null,
   "metadata": {},
   "outputs": [],
   "source": [
    "t = np.linspace(0, 3 * np.pi, 100)\n",
    "x, y, z = parametric_spiral(t)"
   ]
  },
  {
   "cell_type": "markdown",
   "metadata": {},
   "source": [
    "Plot the three dimensional spiral curve:"
   ]
  },
  {
   "cell_type": "code",
   "execution_count": null,
   "metadata": {},
   "outputs": [],
   "source": [
    "fig = plt.figure()\n",
    "ax = fig.add_subplot(111, projection='3d')\n",
    "ax.plot(x, y, z, 'o-')\n",
    "ax.set_xlabel('X')\n",
    "ax.set_ylabel('Y')\n",
    "ax.set_zlabel('Z')"
   ]
  },
  {
   "cell_type": "markdown",
   "metadata": {},
   "source": [
    "The x,y,z coordinates can be used to construct a spline, a smooth curve through the control points, i.e. the x,y,z coordinates of the spiral. "
   ]
  },
  {
   "cell_type": "code",
   "execution_count": null,
   "metadata": {},
   "outputs": [],
   "source": [
    "control_points = np.array([x, y, z]).T  \n",
    "spline = mdna.SplineFrames(control_points)"
   ]
  },
  {
   "cell_type": "markdown",
   "metadata": {},
   "source": [
    "Visualize the spline in three dimensions. Each point has an orthonormal basis, the rigid body reference frame for each basepair. "
   ]
  },
  {
   "cell_type": "code",
   "execution_count": null,
   "metadata": {},
   "outputs": [],
   "source": [
    "spline.plot_frames(equal=True)\n",
    "#The message about artists with labels can be ignored"
   ]
  },
  {
   "cell_type": "markdown",
   "metadata": {},
   "source": [
    " These reference frames provide a position and mapping to construct the positions of atoms in DNA base pairs. In the following code, atomic positions are generated using the reference frames. The sequence is randomized, unless a sequence is provided. Note that for a predefined sequence, the number of base pairs must match the number of reference frames. "
   ]
  },
  {
   "cell_type": "code",
   "execution_count": null,
   "metadata": {},
   "outputs": [],
   "source": [
    "sequence = None # Make sure if you create your own sequence, it has the same length as the number of base pairs n_bp \n",
    "generator = mdna.StructureGenerator(spline)\n",
    "\n",
    "n_bp = spline.frames.shape[0]\n",
    "print(f'Number of base pairs is {n_bp} that fit along the spline.')\n",
    "traj = generator.traj\n",
    "traj"
   ]
  },
  {
   "cell_type": "markdown",
   "metadata": {},
   "source": [
    "Next, we can view the structure:"
   ]
  },
  {
   "cell_type": "code",
   "execution_count": null,
   "metadata": {},
   "outputs": [],
   "source": [
    "view = nv.show_mdtraj(traj)\n",
    "#view.add_licorice()\n",
    "#view.add_spacefill()\n",
    "view"
   ]
  },
  {
   "cell_type": "markdown",
   "metadata": {},
   "source": [
    "### Exercise\n",
    "\n",
    "What is the linking number, writhe and twist of this DNA?"
   ]
  },
  {
   "cell_type": "markdown",
   "metadata": {},
   "source": [
    "## Set your own control points\n",
    "\n",
    "Alternatively, you can define the spline using control points you set yourself. At least 4 control points are required to construct a spline, you can add as many as you want. Control points need to be defined in as cartesian coordinates stored in a numpy array: \n",
    "\n",
    "`control_points = np.array([[0,0,0],[6,-3,3],[6,3,6],[0,0,9],[-6,-3,6],[-6,3,3]])`. This will generate a curved sequence of DNA. "
   ]
  },
  {
   "cell_type": "code",
   "execution_count": null,
   "metadata": {},
   "outputs": [],
   "source": [
    "control_points = np.array([[0,0,0],[6,-3,3],[6,3,6],[0,0,9],[-6,-3,6],[-6,3,3]])\n",
    "spline = mdna.SplineFrames(control_points)"
   ]
  },
  {
   "cell_type": "code",
   "execution_count": null,
   "metadata": {},
   "outputs": [],
   "source": [
    "# plot the control points\n",
    "fig = plt.figure()\n",
    "ax = fig.add_subplot(111, projection='3d')\n",
    "ax.plot(*control_points.T, 'o-')\n",
    "ax.set_xlabel('X')\n",
    "ax.set_ylabel('Y')\n",
    "ax.set_zlabel('Z')"
   ]
  },
  {
   "cell_type": "code",
   "execution_count": null,
   "metadata": {},
   "outputs": [],
   "source": [
    "spline = mdna.SplineFrames(control_points)\n",
    "n_bp = spline.frames.shape[0]\n",
    "print(f'Number of base pairs is {n_bp} that fit along the spline.')\n",
    "spline.plot_frames(equal=True)\n",
    "#The message about artists with labels can be ignored"
   ]
  },
  {
   "cell_type": "code",
   "execution_count": null,
   "metadata": {},
   "outputs": [],
   "source": [
    "dna = mdna.StructureGenerator(spline)\n",
    "traj = dna.traj\n",
    "traj"
   ]
  },
  {
   "cell_type": "code",
   "execution_count": null,
   "metadata": {},
   "outputs": [],
   "source": [
    "view = nv.show_mdtraj(traj)\n",
    "#view.add_licorice()\n",
    "#view.add_spacefill()\n",
    "view"
   ]
  },
  {
   "cell_type": "markdown",
   "metadata": {},
   "source": [
    "### Exercise\n",
    "\n",
    "Play around with the control points to create different curves. "
   ]
  },
  {
   "attachments": {},
   "cell_type": "markdown",
   "metadata": {},
   "source": [
    "## Closed loops\n",
    "\n",
    "Using `spline = mdna.SplineFrames(control_points,closed=True)` will create a closed loop, provided the first and last control points are the same. In the following code, the curve from the previous section is closed. \n",
    "\n",
    "Note that the code is now combined into one cell and that the plotting of the control points is now skipped. The visualization is done in a separate code cell. "
   ]
  },
  {
   "cell_type": "code",
   "execution_count": null,
   "metadata": {},
   "outputs": [],
   "source": [
    "control_points = np.array([[0,0,0],[6,-3,3],[6,3,6],[0,0,9],[-6,-3,6],[-6,3,3],[0,0,0]])\n",
    "spline = mdna.SplineFrames(control_points,closed=True)\n",
    "\n",
    "spline = mdna.SplineFrames(control_points)\n",
    "n_bp = spline.frames.shape[0]\n",
    "print(f'Number of base pairs is {n_bp} that fit along the spline.')\n",
    "spline.plot_frames(equal=True)\n",
    "#The message about artists with labels can be ignored\n",
    "\n",
    "dna = mdna.StructureGenerator(spline)\n",
    "traj = dna.traj\n",
    "traj"
   ]
  },
  {
   "cell_type": "code",
   "execution_count": null,
   "metadata": {},
   "outputs": [],
   "source": [
    "view = nv.show_mdtraj(traj)\n",
    "#view.add_licorice()\n",
    "#view.add_spacefill()\n",
    "view"
   ]
  },
  {
   "attachments": {},
   "cell_type": "markdown",
   "metadata": {},
   "source": [
    "### Exercise\n",
    "\n",
    "Play around with the control points to generate a supercoiled structure as shown on slide 17 of the lecture: \n",
    "\n",
    "\n",
    "<img src=\"./writhe.png\" width=\"200\"/>"
   ]
  },
  {
   "cell_type": "markdown",
   "metadata": {},
   "source": [
    "## Knotted DNA"
   ]
  },
  {
   "cell_type": "markdown",
   "metadata": {},
   "source": [
    "Now you are ready to generate a DNA structure shaped in the form of a knot! \n",
    "\n",
    "To do so you need to define the knot as a paramatric function. Below the parametric functions of the trefoil knot and the figure-eight knot are provided. You can add a new function with the parametric function of another knot. See https://mathcurve.com/courbes3d.gb/noeuds/noeud.shtml for an overview of knots and several parametric representations. \n",
    "\n",
    "Note that to generate a DNA structure from the spline, there needs to be sufficient room for the basepairs. You can tune this with the `scaling` parameter in the parametric functions. The more basepairs you include, the longer it takes to generate a structural model. "
   ]
  },
  {
   "cell_type": "code",
   "execution_count": null,
   "metadata": {},
   "outputs": [],
   "source": [
    "def parametric_trefoil(t, scaling=5):\n",
    "    x = scaling*(np.sin(t)) + scaling*(2*np.sin(2*t)) \n",
    "    y = scaling*(np.cos(t)) - scaling*(2*np.cos(2*t))\n",
    "    z = scaling*(-np.sin(3*t))\n",
    "    return x, y, z"
   ]
  },
  {
   "cell_type": "code",
   "execution_count": null,
   "metadata": {},
   "outputs": [],
   "source": [
    "def parametric_figure_eight(t, scaling=1/32):\n",
    "    x = scaling*32*np.cos(t) - scaling*51*np.sin(t) - scaling*104*np.cos(2*t) - scaling*34*np.sin(2*t) + scaling*104*np.cos(3*t) - scaling*91*np.sin(3*t)\n",
    "    y = scaling*94*np.cos(t)+ scaling*41*np.sin(t) + scaling*113*np.cos(2*t) - scaling*68*np.cos(3*t) - scaling*124*np.sin(3*t)\n",
    "    z = scaling*16*np.cos(t) + scaling*73*np.sin(t) - scaling*211*np.cos(2*t) - scaling*39*np.sin(2*t) - scaling*99*np.cos(3*t) - scaling*21*np.sin(3*t)\n",
    "    return x, y, z"
   ]
  },
  {
   "cell_type": "code",
   "execution_count": null,
   "metadata": {},
   "outputs": [],
   "source": [
    "# define your own knot\n",
    "def parametric_another_knot(t, scaling=5):\n",
    "    x = t\n",
    "    y = t\n",
    "    z = t\n",
    "    return x, y, z"
   ]
  },
  {
   "cell_type": "code",
   "execution_count": null,
   "metadata": {},
   "outputs": [],
   "source": [
    "t = np.linspace(0, 2 * np.pi, 50)  # 0 to 2π with 50 points\n",
    "x, y, z = parametric_trefoil(t)\n",
    "#x, y, z = parametric_another_knot(t)\n",
    "control_points = np.array([x, y, z]).T  # Create a (n_points, 3) array\n",
    "spline = mdna.SplineFrames(control_points,closed=True) # Use `closed=True` to close the DNA knot. "
   ]
  },
  {
   "cell_type": "code",
   "execution_count": null,
   "metadata": {},
   "outputs": [],
   "source": [
    "# plot the control points\n",
    "fig = plt.figure()\n",
    "ax = fig.add_subplot(111, projection='3d')\n",
    "ax.plot(*control_points.T, 'o-')\n",
    "ax.set_xlabel('X')\n",
    "ax.set_ylabel('Y')\n",
    "ax.set_zlabel('Z')"
   ]
  },
  {
   "cell_type": "code",
   "execution_count": null,
   "metadata": {},
   "outputs": [],
   "source": [
    "spline = mdna.SplineFrames(control_points, closed=True)\n",
    "n_bp = spline.frames.shape[0]\n",
    "print(f'Number of base pairs is {n_bp} that fit along the spline.')\n",
    "spline.plot_frames(equal=True)"
   ]
  },
  {
   "cell_type": "code",
   "execution_count": null,
   "metadata": {},
   "outputs": [],
   "source": [
    "dna = mdna.StructureGenerator(spline,circular=True)\n",
    "traj = dna.traj\n",
    "traj"
   ]
  },
  {
   "cell_type": "code",
   "execution_count": null,
   "metadata": {},
   "outputs": [],
   "source": [
    "view = nv.show_mdtraj(traj)\n",
    "#view.add_licorice()\n",
    "#view.add_spacefill()\n",
    "view"
   ]
  },
  {
   "cell_type": "markdown",
   "metadata": {},
   "source": [
    "### Exercise\n",
    "\n",
    "Generate two other knots. You can use the already programmed figure-eight function. See https://mathcurve.com/courbes3d.gb/noeuds/noeud.shtml for an overview of knots and several parametric representations. "
   ]
  }
 ],
 "metadata": {
  "kernelspec": {
   "display_name": "Python 3 (ipykernel)",
   "language": "python",
   "name": "python3"
  },
  "language_info": {
   "codemirror_mode": {
    "name": "ipython",
    "version": 3
   },
   "file_extension": ".py",
   "mimetype": "text/x-python",
   "name": "python",
   "nbconvert_exporter": "python",
   "pygments_lexer": "ipython3",
   "version": "3.11.9"
  }
 },
 "nbformat": 4,
 "nbformat_minor": 4
}
